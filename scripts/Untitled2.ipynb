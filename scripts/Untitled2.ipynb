{
 "cells": [
  {
   "cell_type": "code",
   "execution_count": 5,
   "id": "6e7a2fd9-55c7-4042-8279-72c82f1f7b55",
   "metadata": {},
   "outputs": [
    {
     "name": "stdout",
     "output_type": "stream",
     "text": [
      "('Open Flowers', 'solid', 501)\n",
      "('Breaking Leaf Buds', (0, (3, 1, 1, 1, 1, 1)), 371)\n",
      "('Increasing Leaf Size', 'dotted', 467)\n",
      "('Leaves', 'dashdot', 483)\n",
      "('Colored Leaves', (0, (1, 1)), 498)\n"
     ]
    }
   ],
   "source": [
    "PhenophaseList = [\n",
    "    (\"Open Flowers\", 501),\n",
    "    (\"Breaking Leaf Buds\", 371),  # Densely DashDotted\n",
    "    (\"Increasing Leaf Size\", 467),\n",
    "    (\"Leaves\", 483),\n",
    "    (\"Colored Leaves\", 498)  # Loosely dotted\n",
    "]\n",
    "\n",
    "linestyles = [\n",
    "    (\"solid\"),\n",
    "    (0, (3, 1, 1, 1, 1, 1)),  # Densely DashDotted\n",
    "    (\"dotted\"),\n",
    "    (\"dashdot\"),\n",
    "    ((0, (1, 1))),  # Loosely dotted\n",
    "    (\"dashed\")\n",
    "]\n",
    "\n",
    "# Merge PhenophaseList and linestyles into one two-dimensional list\n",
    "merged_list = [(phenophase, linestyle, value) for (phenophase, value), linestyle in zip(PhenophaseList, linestyles)]\n",
    "\n",
    "# Print the merged list\n",
    "for item in merged_list:\n",
    "    print(item)\n"
   ]
  },
  {
   "cell_type": "code",
   "execution_count": null,
   "id": "51ccf49e-240c-4b92-9cfb-c3adc7d37bbd",
   "metadata": {},
   "outputs": [],
   "source": []
  }
 ],
 "metadata": {
  "kernelspec": {
   "display_name": "Python 3 (ipykernel)",
   "language": "python",
   "name": "python3"
  },
  "language_info": {
   "codemirror_mode": {
    "name": "ipython",
    "version": 3
   },
   "file_extension": ".py",
   "mimetype": "text/x-python",
   "name": "python",
   "nbconvert_exporter": "python",
   "pygments_lexer": "ipython3",
   "version": "3.10.9"
  }
 },
 "nbformat": 4,
 "nbformat_minor": 5
}
