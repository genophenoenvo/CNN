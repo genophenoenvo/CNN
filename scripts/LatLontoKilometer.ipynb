{
 "cells": [
  {
   "cell_type": "code",
   "execution_count": 1,
   "id": "0fac3fce-ccfe-4d3e-ac35-7bbe2d8515c9",
   "metadata": {},
   "outputs": [
    {
     "name": "stdout",
     "output_type": "stream",
     "text": [
      "Distance: 0.52 kilometers\n"
     ]
    }
   ],
   "source": [
    "import math\n",
    "\n",
    "def haversine_distance(lat1, lon1, lat2, lon2):\n",
    "    # Convert degrees to radians\n",
    "    lat1 = math.radians(lat1)\n",
    "    lon1 = math.radians(lon1)\n",
    "    lat2 = math.radians(lat2)\n",
    "    lon2 = math.radians(lon2)\n",
    "\n",
    "    # Haversine formula\n",
    "    dlon = lon2 - lon1\n",
    "    dlat = lat2 - lat1\n",
    "    a = math.sin(dlat / 2) ** 2 + math.cos(lat1) * math.cos(lat2) * math.sin(dlon / 2) ** 2\n",
    "    c = 2 * math.atan2(math.sqrt(a), math.sqrt(1 - a))\n",
    "    distance = 6371 * c  # Earth radius in kilometers\n",
    "    return distance\n",
    "\n",
    "# Coordinates\n",
    "lat1 = 42.542778  # 42°32'34.0\"N\n",
    "lon1 = -72.172139  # 72°10'19.7\"W\n",
    "lat2 = 42.538111  # 42°32'17.2\"N\n",
    "lon2 = -72.172611  # 72°10'21.4\"W\n",
    "\n",
    "# Calculate distance\n",
    "distance = haversine_distance(lat1, lon1, lat2, lon2)\n",
    "\n",
    "# Print the distance\n",
    "print(\"Distance: {:.2f} kilometers\".format(distance))\n"
   ]
  },
  {
   "cell_type": "code",
   "execution_count": null,
   "id": "3713b388-d123-4c2e-9c7a-963676bfc7b9",
   "metadata": {},
   "outputs": [],
   "source": []
  }
 ],
 "metadata": {
  "kernelspec": {
   "display_name": "Python 3 (ipykernel)",
   "language": "python",
   "name": "python3"
  },
  "language_info": {
   "codemirror_mode": {
    "name": "ipython",
    "version": 3
   },
   "file_extension": ".py",
   "mimetype": "text/x-python",
   "name": "python",
   "nbconvert_exporter": "python",
   "pygments_lexer": "ipython3",
   "version": "3.10.9"
  }
 },
 "nbformat": 4,
 "nbformat_minor": 5
}
