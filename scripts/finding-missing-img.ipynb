{
 "metadata": {
  "orig_nbformat": 2,
  "kernelspec": {
   "name": "env",
   "display_name": "env"
  }
 },
 "nbformat": 4,
 "nbformat_minor": 2,
 "cells": [
  {
   "cell_type": "code",
   "execution_count": null,
   "metadata": {},
   "outputs": [],
   "source": [
    "SITE_NAME = \"NEON.D01.HARV.DP1.00033\"\n",
    "YEAR      = 2017"
   ]
  },
  {
   "cell_type": "code",
   "execution_count": null,
   "metadata": {
    "tags": [
     "outputPrepend"
    ]
   },
   "outputs": [],
   "source": [
    "def list_files(filepath, filetype):\n",
    "   paths = []\n",
    "   for root, dirs, files in os.walk(filepath):\n",
    "      for file in files:\n",
    "         if file.lower().endswith(filetype.lower()):\n",
    "            paths.append(os.path.join(root, file))\n",
    "   return(paths)\n",
    "\n",
    "img_files = list_files(f'../data_raw/{SITE_NAME}/{YEAR}', \".jpg\")\n",
    "img_files.sort() # due to the way the file name is set up, sorting will sort it by date as well\n",
    "img_files_set = set(img_files)\n",
    "print(img_files)"
   ]
  },
  {
   "cell_type": "code",
   "execution_count": null,
   "metadata": {},
   "outputs": [],
   "source": [
    "from datetime import date, timedelta\n",
    "\n",
    "# get all date between [start_date, end_date]\n",
    "def get_all_days_in_range(start_date, end_date):\n",
    "    delta = end_date - start_date   # returns timedelta\n",
    "    all_days = []\n",
    "    for i in range(delta.days + 1):\n",
    "        day = start_date + timedelta(days=i)\n",
    "        all_days.append(str(day).replace('-', '_'))\n",
    "    return all_days\n",
    "\n",
    "# get all date in the year\n",
    "def get_all_days_in_year(year):\n",
    "    return get_all_days_in_range(date(year, 1, 1), date(year, 12, 31))"
   ]
  },
  {
   "cell_type": "code",
   "execution_count": null,
   "metadata": {},
   "outputs": [],
   "source": [
    "missing_date = []\n",
    "day_index = 0\n",
    "all_day_in_year = get_all_days_in_year(YEAR)\n",
    "for img_file in img_files:\n",
    "    while day_index < len(all_day_in_year) - 1 and all_day_in_year[day_index] not in img_file:\n",
    "        missing_date.append(all_day_in_year[day_index])\n",
    "        day_index += 1\n",
    "    day_index += 1\n",
    "    \n",
    "print(missing_date)    \n",
    "print(f'{len(missing_date)}, {len(img_files)}, {len(all_day_in_year)}')"
   ]
  },
  {
   "cell_type": "code",
   "execution_count": null,
   "metadata": {},
   "outputs": [],
   "source": []
  }
 ]
}