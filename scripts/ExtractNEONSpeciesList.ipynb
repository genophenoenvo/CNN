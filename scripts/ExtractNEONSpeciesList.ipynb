{
 "cells": [
  {
   "cell_type": "code",
   "execution_count": 39,
   "id": "e36ffddf-41ae-4f42-b81b-da7777ee0c1c",
   "metadata": {},
   "outputs": [
    {
     "name": "stdout",
     "output_type": "stream",
     "text": [
      "\n",
      "Selected Rows:\n",
      "                                    Partner_Group  Site_ID   Latitude  \\\n",
      "0  National Ecological Observatory Network (NEON)    35875  42.542778   \n",
      "\n",
      "   Longitude  Elevation_in_Meters State  Species_ID Genus Species Common_Name  \\\n",
      "0 -72.172127                  382    MA           3  Acer  rubrum   red maple   \n",
      "\n",
      "   ... Mean_Last_Yes_DOY  Mean_Last_Yes_Julian_Date SE_Last_Yes_in_Days  \\\n",
      "0  ...               129                    2457883            1.361147   \n",
      "\n",
      "   SD_Last_Yes_in_Days  Min_Last_Yes_DOY  Max_Last_Yes_DOY  \\\n",
      "0             7.455307               118               142   \n",
      "\n",
      "   Median_Last_Yes_DOY  Mean_NumDays_Until_Next_No  SE_NumDays_Until_Next_No  \\\n",
      "0                  132                         4.2                  0.494568   \n",
      "\n",
      "   SD_NumDays_Until_Next_No  \n",
      "0                  2.708862  \n",
      "\n",
      "[1 rows x 37 columns]\n",
      "0    115\n",
      "Name: Mean_First_Yes_DOY, dtype: int64\n"
     ]
    },
    {
     "data": {
      "text/plain": [
       "'\\n\\nselected_rows = df[(df[\\'Species_ID\\'] == 3) \\n                   & (df[\\'Mean_First_Yes_Year\\'] == 2017) \\n                   & (df[\\'Phenophase_ID\\'] == 371)]   \\nprint(\"\\nSelected Rows:\")\\nprint(selected_rows)\\nMean_First_Yes_DOY = selected_rows[\\'Mean_First_Yes_DOY\\']\\nprint (Mean_First_Yes_DOY)\\n'"
      ]
     },
     "execution_count": 39,
     "metadata": {},
     "output_type": "execute_result"
    }
   ],
   "source": [
    "import pandas as pd\n",
    "\n",
    "def NPNMeanObservations (Obsyear, YearColumnName, speciesID, Phenophase_ID, \n",
    "                         PhenophasDateColName, NPNdf): \n",
    "    selected_rows = NPNdf[(NPNdf['Species_ID'] == speciesID)\n",
    "                   & (NPNdf[YearColumnName] == Obsyear) \n",
    "                   & (NPNdf['Phenophase_ID'] == Phenophase_ID)]\n",
    "    PhenoDate = selected_rows[PhenophasDateColName]\n",
    "    return PhenoDate\n",
    "\n",
    "\n",
    "NPNFile = \"../data_raw/NEON_presence-cover-plant/NPNNEON.D01.HARV.DP1.000332017-2023datasheet_1685753626088/site_phenometrics_dataHARV2017-2023.csv\"\n",
    "NPNdf = pd.read_csv(NPNFile)\n",
    "PhenoValue = NPNMeanObservations (2017, 'Mean_First_Yes_Year', 3, 371, 'Mean_First_Yes_DOY', NPNdf)\n",
    "print (PhenoValue)\n",
    "'''\n",
    "\n",
    "selected_rows = df[(df['Species_ID'] == 3) \n",
    "                   & (df['Mean_First_Yes_Year'] == 2017) \n",
    "                   & (df['Phenophase_ID'] == 371)]   \n",
    "print(\"\\nSelected Rows:\")\n",
    "print(selected_rows)\n",
    "Mean_First_Yes_DOY = selected_rows['Mean_First_Yes_DOY']\n",
    "print (Mean_First_Yes_DOY)\n",
    "'''\n"
   ]
  },
  {
   "cell_type": "code",
   "execution_count": null,
   "id": "bcf2640e-36c7-477c-8624-6f2f3709186d",
   "metadata": {},
   "outputs": [],
   "source": []
  }
 ],
 "metadata": {
  "kernelspec": {
   "display_name": "Python 3 (ipykernel)",
   "language": "python",
   "name": "python3"
  },
  "language_info": {
   "codemirror_mode": {
    "name": "ipython",
    "version": 3
   },
   "file_extension": ".py",
   "mimetype": "text/x-python",
   "name": "python",
   "nbconvert_exporter": "python",
   "pygments_lexer": "ipython3",
   "version": "3.10.9"
  }
 },
 "nbformat": 4,
 "nbformat_minor": 5
}
